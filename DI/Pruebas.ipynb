{
 "cells": [
  {
   "cell_type": "code",
   "execution_count": 1,
   "id": "5221f632",
   "metadata": {},
   "outputs": [
    {
     "ename": "ModuleNotFoundError",
     "evalue": "No module named 'numpy'",
     "output_type": "error",
     "traceback": [
      "\u001b[1;31m---------------------------------------------------------------------------\u001b[0m",
      "\u001b[1;31mModuleNotFoundError\u001b[0m                       Traceback (most recent call last)",
      "\u001b[1;32m<ipython-input-1-d4cdadb62aa7>\u001b[0m in \u001b[0;36m<module>\u001b[1;34m\u001b[0m\n\u001b[1;32m----> 1\u001b[1;33m \u001b[1;32mimport\u001b[0m \u001b[0mnumpy\u001b[0m\u001b[1;33m\u001b[0m\u001b[1;33m\u001b[0m\u001b[0m\n\u001b[0m",
      "\u001b[1;31mModuleNotFoundError\u001b[0m: No module named 'numpy'"
     ]
    }
   ],
   "source": [
    "import numpy"
   ]
  },
  {
   "cell_type": "code",
   "execution_count": 7,
   "id": "e9c74d53",
   "metadata": {},
   "outputs": [],
   "source": [
    "import numpy as np"
   ]
  },
  {
   "cell_type": "markdown",
   "id": "7651bf19",
   "metadata": {},
   "source": [
    "###Esto es un título"
   ]
  },
  {
   "cell_type": "markdown",
   "id": "86017e4b",
   "metadata": {},
   "source": [
    "##Esto es otro titulo más pequeño"
   ]
  },
  {
   "cell_type": "markdown",
   "id": "379b289d",
   "metadata": {},
   "source": [
    "### Titulo"
   ]
  },
  {
   "cell_type": "markdown",
   "id": "38dcb9ac",
   "metadata": {},
   "source": [
    "## Titulo pequeño"
   ]
  },
  {
   "cell_type": "markdown",
   "id": "a6d903cd",
   "metadata": {},
   "source": [
    "### Titulo más grande"
   ]
  },
  {
   "cell_type": "markdown",
   "id": "31cb4b2b",
   "metadata": {},
   "source": [
    "# Titulo super grande?"
   ]
  },
  {
   "cell_type": "code",
   "execution_count": 4,
   "id": "c0a8a8e4",
   "metadata": {},
   "outputs": [],
   "source": [
    "a = 2 # Esto es un comentario"
   ]
  },
  {
   "cell_type": "code",
   "execution_count": 5,
   "id": "de00daff",
   "metadata": {},
   "outputs": [
    {
     "name": "stdout",
     "output_type": "stream",
     "text": [
      "4\n"
     ]
    }
   ],
   "source": [
    "print(a*a)"
   ]
  },
  {
   "cell_type": "code",
   "execution_count": 13,
   "id": "fbc74bd1",
   "metadata": {},
   "outputs": [
    {
     "ename": "UFuncTypeError",
     "evalue": "ufunc 'add' did not contain a loop with signature matching types (dtype('<U11'), dtype('<U11')) -> dtype('<U11')",
     "output_type": "error",
     "traceback": [
      "\u001b[1;31m---------------------------------------------------------------------------\u001b[0m",
      "\u001b[1;31mUFuncTypeError\u001b[0m                            Traceback (most recent call last)",
      "\u001b[1;32m<ipython-input-13-787144b38811>\u001b[0m in \u001b[0;36m<module>\u001b[1;34m\u001b[0m\n\u001b[0;32m      1\u001b[0m \u001b[1;32mfor\u001b[0m \u001b[0mi\u001b[0m \u001b[1;32min\u001b[0m \u001b[0mnp\u001b[0m\u001b[1;33m.\u001b[0m\u001b[0marange\u001b[0m\u001b[1;33m(\u001b[0m\u001b[1;36m5\u001b[0m\u001b[1;33m)\u001b[0m\u001b[1;33m:\u001b[0m\u001b[1;33m\u001b[0m\u001b[1;33m\u001b[0m\u001b[0m\n\u001b[1;32m----> 2\u001b[1;33m     \u001b[0mprint\u001b[0m\u001b[1;33m(\u001b[0m\u001b[0mi\u001b[0m\u001b[1;33m+\u001b[0m\u001b[1;34m\"****\"\u001b[0m\u001b[1;33m)\u001b[0m\u001b[1;33m\u001b[0m\u001b[1;33m\u001b[0m\u001b[0m\n\u001b[0m",
      "\u001b[1;31mUFuncTypeError\u001b[0m: ufunc 'add' did not contain a loop with signature matching types (dtype('<U11'), dtype('<U11')) -> dtype('<U11')"
     ]
    }
   ],
   "source": [
    "for i in np.arange(5):\n",
    "    print(i+\"****\")"
   ]
  },
  {
   "cell_type": "code",
   "execution_count": null,
   "id": "72d2ad63",
   "metadata": {},
   "outputs": [],
   "source": []
  }
 ],
 "metadata": {
  "kernelspec": {
   "display_name": "Python 3.9.12 ('base')",
   "language": "python",
   "name": "python3"
  },
  "language_info": {
   "codemirror_mode": {
    "name": "ipython",
    "version": 3
   },
   "file_extension": ".py",
   "mimetype": "text/x-python",
   "name": "python",
   "nbconvert_exporter": "python",
   "pygments_lexer": "ipython3",
   "version": "3.9.12"
  },
  "vscode": {
   "interpreter": {
    "hash": "48f756cc4675e06a269507612c41368effdc549bb339725f206722f32b5fc9af"
   }
  }
 },
 "nbformat": 4,
 "nbformat_minor": 5
}
