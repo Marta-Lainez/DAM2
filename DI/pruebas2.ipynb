{
 "cells": [
  {
   "cell_type": "code",
   "execution_count": 1,
   "id": "73c87dae",
   "metadata": {},
   "outputs": [
    {
     "ename": "ModuleNotFoundError",
     "evalue": "No module named 'numpy'",
     "output_type": "error",
     "traceback": [
      "\u001b[1;31m---------------------------------------------------------------------------\u001b[0m",
      "\u001b[1;31mModuleNotFoundError\u001b[0m                       Traceback (most recent call last)",
      "\u001b[1;32m<ipython-input-1-d4cdadb62aa7>\u001b[0m in \u001b[0;36m<module>\u001b[1;34m\u001b[0m\n\u001b[1;32m----> 1\u001b[1;33m \u001b[1;32mimport\u001b[0m \u001b[0mnumpy\u001b[0m\u001b[1;33m\u001b[0m\u001b[1;33m\u001b[0m\u001b[0m\n\u001b[0m",
      "\u001b[1;31mModuleNotFoundError\u001b[0m: No module named 'numpy'"
     ]
    }
   ],
   "source": [
    "import numpy"
   ]
  },
  {
   "cell_type": "code",
   "execution_count": 2,
   "id": "1930522a",
   "metadata": {},
   "outputs": [],
   "source": [
    "import numpy"
   ]
  },
  {
   "cell_type": "markdown",
   "id": "f374e4b4",
   "metadata": {},
   "source": [
    "###Esto es un título"
   ]
  },
  {
   "cell_type": "markdown",
   "id": "f81df76d",
   "metadata": {},
   "source": [
    "##Esto es otro titulo más pequeño"
   ]
  },
  {
   "cell_type": "markdown",
   "id": "4d238572",
   "metadata": {},
   "source": [
    "### Titulo"
   ]
  },
  {
   "cell_type": "markdown",
   "id": "b60c8f3a",
   "metadata": {},
   "source": [
    "## Titulo pequeño"
   ]
  },
  {
   "cell_type": "markdown",
   "id": "9d881fd9",
   "metadata": {},
   "source": [
    "### Titulo más grande"
   ]
  },
  {
   "cell_type": "markdown",
   "id": "e8c0b794",
   "metadata": {},
   "source": [
    "# Titulo super grande?"
   ]
  },
  {
   "cell_type": "code",
   "execution_count": 4,
   "id": "5b914448",
   "metadata": {},
   "outputs": [],
   "source": [
    "a = 2 # Esto es un comentario"
   ]
  },
  {
   "cell_type": "code",
   "execution_count": 5,
   "id": "4d89c489",
   "metadata": {},
   "outputs": [
    {
     "name": "stdout",
     "output_type": "stream",
     "text": [
      "4\n"
     ]
    }
   ],
   "source": [
    "print(a*a)"
   ]
  },
  {
   "cell_type": "code",
   "execution_count": 1,
   "id": "4792491a",
   "metadata": {},
   "outputs": [
    {
     "data": {
      "text/plain": [
       "6"
      ]
     },
     "execution_count": 1,
     "metadata": {},
     "output_type": "execute_result"
    }
   ],
   "source": [
    "12//2"
   ]
  },
  {
   "cell_type": "code",
   "execution_count": 2,
   "id": "7e8c55c2",
   "metadata": {},
   "outputs": [
    {
     "data": {
      "text/plain": [
       "5"
      ]
     },
     "execution_count": 2,
     "metadata": {},
     "output_type": "execute_result"
    }
   ],
   "source": [
    "11//2"
   ]
  },
  {
   "cell_type": "code",
   "execution_count": 3,
   "id": "549d7864",
   "metadata": {},
   "outputs": [
    {
     "data": {
      "text/plain": [
       "5.5"
      ]
     },
     "execution_count": 3,
     "metadata": {},
     "output_type": "execute_result"
    }
   ],
   "source": [
    "11/2"
   ]
  },
  {
   "cell_type": "code",
   "execution_count": 4,
   "id": "42b50f3a",
   "metadata": {},
   "outputs": [
    {
     "data": {
      "text/plain": [
       "1"
      ]
     },
     "execution_count": 4,
     "metadata": {},
     "output_type": "execute_result"
    }
   ],
   "source": [
    "11%2"
   ]
  },
  {
   "cell_type": "code",
   "execution_count": 17,
   "id": "04815f58",
   "metadata": {},
   "outputs": [],
   "source": [
    "a = 4.995738465"
   ]
  },
  {
   "cell_type": "code",
   "execution_count": 18,
   "id": "c8c8181a",
   "metadata": {},
   "outputs": [
    {
     "data": {
      "text/plain": [
       "5"
      ]
     },
     "execution_count": 18,
     "metadata": {},
     "output_type": "execute_result"
    }
   ],
   "source": [
    "round(a)"
   ]
  },
  {
   "cell_type": "code",
   "execution_count": 21,
   "id": "c306c32f",
   "metadata": {},
   "outputs": [
    {
     "name": "stdout",
     "output_type": "stream",
     "text": [
      "Este es mi texto:\n",
      "PatoPatoPatoPatoPatoPato\n",
      "PatoPatoPatoPatoPatoPatoPatoPato\n"
     ]
    }
   ],
   "source": [
    "text = \"Este es mi texto:\\nPatoPatoPatoPatoPatoPato\\nPatoPatoPatoPatoPatoPatoPatoPato\"\n",
    "print(text)"
   ]
  },
  {
   "cell_type": "code",
   "execution_count": 22,
   "id": "29451da2",
   "metadata": {},
   "outputs": [
    {
     "name": "stdout",
     "output_type": "stream",
     "text": [
      "18\n"
     ]
    }
   ],
   "source": [
    "numeroPatos = (5-2)*6\n",
    "print(numeroPatos)"
   ]
  },
  {
   "cell_type": "code",
   "execution_count": 34,
   "id": "91449a0b",
   "metadata": {},
   "outputs": [
    {
     "ename": "TypeError",
     "evalue": "'str' object cannot be interpreted as an integer",
     "output_type": "error",
     "traceback": [
      "\u001b[1;31m---------------------------------------------------------------------------\u001b[0m",
      "\u001b[1;31mTypeError\u001b[0m                                 Traceback (most recent call last)",
      "\u001b[1;32mc:\\Users\\generico\\Documents\\DAM 2 MARTA\\DI\\Untitled.ipynb Celda 19\u001b[0m in \u001b[0;36m<cell line: 2>\u001b[1;34m()\u001b[0m\n\u001b[0;32m      <a href='vscode-notebook-cell:/c%3A/Users/generico/Documents/DAM%202%20MARTA/DI/Untitled.ipynb#X24sZmlsZQ%3D%3D?line=0'>1</a>\u001b[0m x \u001b[39m=\u001b[39m \u001b[39minput\u001b[39m(\u001b[39m\"\u001b[39m\u001b[39mIntroduce un numero\u001b[39m\u001b[39m\"\u001b[39m)\n\u001b[1;32m----> <a href='vscode-notebook-cell:/c%3A/Users/generico/Documents/DAM%202%20MARTA/DI/Untitled.ipynb#X24sZmlsZQ%3D%3D?line=1'>2</a>\u001b[0m \u001b[39mfor\u001b[39;00m i \u001b[39min\u001b[39;00m \u001b[39mrange\u001b[39;49m(x):\n\u001b[0;32m      <a href='vscode-notebook-cell:/c%3A/Users/generico/Documents/DAM%202%20MARTA/DI/Untitled.ipynb#X24sZmlsZQ%3D%3D?line=2'>3</a>\u001b[0m     \u001b[39mprint\u001b[39m(i\u001b[39m+\u001b[39m\u001b[39m1\u001b[39m)\n\u001b[0;32m      <a href='vscode-notebook-cell:/c%3A/Users/generico/Documents/DAM%202%20MARTA/DI/Untitled.ipynb#X24sZmlsZQ%3D%3D?line=3'>4</a>\u001b[0m     \u001b[39mprint\u001b[39m(text)\n",
      "\u001b[1;31mTypeError\u001b[0m: 'str' object cannot be interpreted as an integer"
     ]
    }
   ],
   "source": [
    "x = input(\"Introduce un numero\")\n",
    "for i in range(x):\n",
    "    print(i+1)\n",
    "    print(text)\n",
    "print(\"\\nFINAL\")\n"
   ]
  },
  {
   "cell_type": "code",
   "execution_count": 38,
   "id": "ffdf4a31",
   "metadata": {},
   "outputs": [],
   "source": [
    "def hola(s):\n",
    "    \"\"\"\n",
    "    Esta es una funcion\n",
    "    input: cadena de caracteres\n",
    "    output: print de la cadena\n",
    "    \"\"\"\n",
    "    print(s)\n",
    "    print(\"VAMOS A MORIR TODOS\")\n",
    "    "
   ]
  },
  {
   "cell_type": "code",
   "execution_count": 40,
   "id": "1bb9a268",
   "metadata": {},
   "outputs": [
    {
     "name": "stdout",
     "output_type": "stream",
     "text": [
      "SE ACERCA EL FIN\n",
      "VAMOS A MORIR TODOS\n"
     ]
    }
   ],
   "source": [
    "hola(\"SE ACERCA EL FIN\")"
   ]
  },
  {
   "cell_type": "code",
   "execution_count": 41,
   "id": "28635f64",
   "metadata": {},
   "outputs": [],
   "source": [
    "def multiplica(x,y):\n",
    "    \"\"\"\n",
    "    descripcion: Esta funcion multiplica los parametros\n",
    "    input: factores a multiplicar\n",
    "    output: producto\n",
    "    \"\"\"\n",
    "    return x*y"
   ]
  },
  {
   "cell_type": "code",
   "execution_count": 43,
   "id": "0348fb77",
   "metadata": {},
   "outputs": [
    {
     "name": "stdout",
     "output_type": "stream",
     "text": [
      "8\n"
     ]
    }
   ],
   "source": [
    "print(multiplica(multiplica(2,2),2))"
   ]
  },
  {
   "cell_type": "code",
   "execution_count": 1,
   "id": "a194978a",
   "metadata": {},
   "outputs": [],
   "source": [
    "def ejercicio1(x,y):\n",
    "    \"\"\"\n",
    "    descripcion: Funcion que toma como argumentos dos numeros y devuelve su suma, resta, multiplicacion, \n",
    "    division y cuadrado arange del numdero de elementos del primer numero.\n",
    "    condiciones: Chequea que el primero es mayor que el segundo. Si no lo es, imprime un error.\n",
    "    input: Factores a operar\n",
    "    output: Operaciones\n",
    "    \"\"\"\n",
    "    if x > 2:\n",
    "        print(\"suma:\",x+y)\n",
    "        print(\"resta:\",x-y)\n",
    "        print(\"multiplicacion:\",x*y)\n",
    "        print(\"division:\",x/y)\n",
    "        print(\"potencias:\")\n",
    "        for i in range(x):\n",
    "            if i >= y:\n",
    "                print(i,\"al cuadrado:\",i*i)\n",
    "                \n",
    "    else:\n",
    "        print(\"Error\")\n"
   ]
  },
  {
   "cell_type": "code",
   "execution_count": 2,
   "id": "18fbd01f",
   "metadata": {},
   "outputs": [
    {
     "name": "stdout",
     "output_type": "stream",
     "text": [
      "suma: 9\n",
      "resta: 5\n",
      "multiplicacion: 14\n",
      "division: 3.5\n",
      "potencias:\n",
      "2 al cuadrado: 4\n",
      "3 al cuadrado: 9\n",
      "4 al cuadrado: 16\n",
      "5 al cuadrado: 25\n",
      "6 al cuadrado: 36\n"
     ]
    }
   ],
   "source": [
    "ejercicio1(7,2)"
   ]
  }
 ],
 "metadata": {
  "kernelspec": {
   "display_name": "Python 3.9.12 ('base')",
   "language": "python",
   "name": "python3"
  },
  "language_info": {
   "codemirror_mode": {
    "name": "ipython",
    "version": 3
   },
   "file_extension": ".py",
   "mimetype": "text/x-python",
   "name": "python",
   "nbconvert_exporter": "python",
   "pygments_lexer": "ipython3",
   "version": "3.9.12"
  },
  "vscode": {
   "interpreter": {
    "hash": "48f756cc4675e06a269507612c41368effdc549bb339725f206722f32b5fc9af"
   }
  }
 },
 "nbformat": 4,
 "nbformat_minor": 5
}
