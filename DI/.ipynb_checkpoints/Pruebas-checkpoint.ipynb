{
 "cells": [
  {
   "cell_type": "code",
   "execution_count": 1,
   "id": "54a6ddda",
   "metadata": {},
   "outputs": [
    {
     "ename": "ModuleNotFoundError",
     "evalue": "No module named 'numpy'",
     "output_type": "error",
     "traceback": [
      "\u001b[1;31m---------------------------------------------------------------------------\u001b[0m",
      "\u001b[1;31mModuleNotFoundError\u001b[0m                       Traceback (most recent call last)",
      "\u001b[1;32m<ipython-input-1-d4cdadb62aa7>\u001b[0m in \u001b[0;36m<module>\u001b[1;34m\u001b[0m\n\u001b[1;32m----> 1\u001b[1;33m \u001b[1;32mimport\u001b[0m \u001b[0mnumpy\u001b[0m\u001b[1;33m\u001b[0m\u001b[1;33m\u001b[0m\u001b[0m\n\u001b[0m",
      "\u001b[1;31mModuleNotFoundError\u001b[0m: No module named 'numpy'"
     ]
    }
   ],
   "source": [
    "import numpy"
   ]
  },
  {
   "cell_type": "code",
   "execution_count": 2,
   "id": "87b7945f",
   "metadata": {},
   "outputs": [],
   "source": [
    "import numpy"
   ]
  },
  {
   "cell_type": "markdown",
   "id": "62994bc9",
   "metadata": {},
   "source": [
    "###Esto es un título"
   ]
  },
  {
   "cell_type": "markdown",
   "id": "36404b31",
   "metadata": {},
   "source": [
    "##Esto es otro titulo más pequeño"
   ]
  },
  {
   "cell_type": "markdown",
   "id": "b7e10807",
   "metadata": {},
   "source": [
    "### Titulo"
   ]
  },
  {
   "cell_type": "markdown",
   "id": "15b736d2",
   "metadata": {},
   "source": [
    "## Titulo pequeño"
   ]
  },
  {
   "cell_type": "markdown",
   "id": "444db56f",
   "metadata": {},
   "source": [
    "### Titulo más grande"
   ]
  },
  {
   "cell_type": "markdown",
   "id": "fcda33f9",
   "metadata": {},
   "source": [
    "# Titulo super grande?"
   ]
  },
  {
   "cell_type": "code",
   "execution_count": 4,
   "id": "f0992aa8",
   "metadata": {},
   "outputs": [],
   "source": [
    "a = 2 # Esto es un comentario"
   ]
  },
  {
   "cell_type": "code",
   "execution_count": 5,
   "id": "3763568c",
   "metadata": {},
   "outputs": [
    {
     "name": "stdout",
     "output_type": "stream",
     "text": [
      "4\n"
     ]
    }
   ],
   "source": [
    "print(a*a)"
   ]
  },
  {
   "cell_type": "code",
   "execution_count": null,
   "id": "c0ca716a",
   "metadata": {},
   "outputs": [],
   "source": []
  }
 ],
 "metadata": {
  "kernelspec": {
   "display_name": "Python 3",
   "language": "python",
   "name": "python3"
  },
  "language_info": {
   "codemirror_mode": {
    "name": "ipython",
    "version": 3
   },
   "file_extension": ".py",
   "mimetype": "text/x-python",
   "name": "python",
   "nbconvert_exporter": "python",
   "pygments_lexer": "ipython3",
   "version": "3.6.13"
  }
 },
 "nbformat": 4,
 "nbformat_minor": 5
}
